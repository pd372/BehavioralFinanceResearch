{
 "cells": [
  {
   "cell_type": "markdown",
   "id": "saving-asthma",
   "metadata": {},
   "source": [
    "# 2021 URI Program - Contrast Effect Bias in Financial markets"
   ]
  },
  {
   "cell_type": "code",
   "execution_count": 1,
   "id": "danish-territory",
   "metadata": {},
   "outputs": [],
   "source": [
    "import pandas as pd\n",
    "import numpy as np\n",
    "import dask #used here to scale computing capabilities of pandas through parallelism\n",
    "import dask.dataframe as dd\n",
    "import pickle #since openning the data was time consuming let's just save it in a pickle file\n"
   ]
  },
  {
   "cell_type": "code",
   "execution_count": 2,
   "id": "covered-infrared",
   "metadata": {},
   "outputs": [],
   "source": [
    "crsp_pickle=open (\"crsp.pickle\",\"wb\")\n",
    "ibes_pickle=open (\"ibes.pickle\",\"wb\")\n",
    "comp_pickle=open (\"comp.pickle\",\"wb\")"
   ]
  },
  {
   "cell_type": "code",
   "execution_count": 3,
   "id": "twelve-hearts",
   "metadata": {},
   "outputs": [
    {
     "name": "stdout",
     "output_type": "stream",
     "text": [
      "<class 'dask.dataframe.core.DataFrame'>\n",
      "Columns: 21 entries, Unnamed: 0 to RETX\n",
      "dtypes: object(4), float64(15), int64(2)"
     ]
    }
   ],
   "source": [
    "crsp=dd.read_csv(\"CRSP_M_19502020.csv\")\n",
    "crsp.info()\n",
    "pickle.dump(crsp,crsp_pickle)\n",
    "crsp_pickle.close()"
   ]
  },
  {
   "cell_type": "code",
   "execution_count": 4,
   "id": "activated-episode",
   "metadata": {},
   "outputs": [],
   "source": [
    "ibes=dd.read_csv(\"IBES_Q_19802020.csv\")\n",
    "pickle.dump(ibes,ibes_pickle)\n",
    "ibes_pickle.close()"
   ]
  },
  {
   "cell_type": "code",
   "execution_count": 5,
   "id": "romantic-circus",
   "metadata": {},
   "outputs": [],
   "source": [
    "comp=pd.read_stata(\"Compustat_Q_19712020.dta\")\n",
    "pickle.dump(comp,comp_pickle)\n",
    "comp_pickle.close()"
   ]
  },
  {
   "cell_type": "code",
   "execution_count": 6,
   "id": "animated-toolbox",
   "metadata": {},
   "outputs": [
    {
     "data": {
      "text/plain": [
       "Index(['Unnamed: 0', 'PERMNO', 'date', 'SHRCD', 'EXCHCD', 'NCUSIP', 'TICKER',\n",
       "       'CUSIP', 'DIVAMT', 'FACPR', 'NWPERM', 'BIDLO', 'ASKHI', 'PRC', 'VOL',\n",
       "       'RET', 'BID', 'ASK', 'SHROUT', 'SPREAD', 'RETX'],\n",
       "      dtype='object')"
      ]
     },
     "execution_count": 6,
     "metadata": {},
     "output_type": "execute_result"
    }
   ],
   "source": [
    "crsp.columns"
   ]
  },
  {
   "cell_type": "code",
   "execution_count": 7,
   "id": "baking-smart",
   "metadata": {},
   "outputs": [
    {
     "data": {
      "text/plain": [
       "Index(['Unnamed: 0', 'TICKER', 'CUSIP', 'ESTIMATOR', 'ANALYS', 'FPI', 'VALUE',\n",
       "       'FPEDATS', 'REVDATS', 'REVTIMS', 'ANNDATS', 'ANNTIMS', 'ACTUAL',\n",
       "       'ANNDATS_ACT', 'ANNTIMS_ACT'],\n",
       "      dtype='object')"
      ]
     },
     "execution_count": 7,
     "metadata": {},
     "output_type": "execute_result"
    }
   ],
   "source": [
    "ibes.columns"
   ]
  },
  {
   "cell_type": "code",
   "execution_count": 8,
   "id": "viral-dakota",
   "metadata": {},
   "outputs": [
    {
     "data": {
      "text/plain": [
       "Index(['gvkey', 'datadate', 'fyearq', 'fqtr', 'fyr', 'indfmt', 'consol',\n",
       "       'popsrc', 'datafmt', 'tic', 'cusip', 'curcdq', 'datacqtr', 'datafqtr',\n",
       "       'actq', 'atq', 'ceqq', 'cshoq', 'dlcq', 'dlttq', 'ibq', 'revtq',\n",
       "       'exchg', 'costat', 'prccq', 'naics', 'sic'],\n",
       "      dtype='object')"
      ]
     },
     "execution_count": 8,
     "metadata": {},
     "output_type": "execute_result"
    }
   ],
   "source": [
    "comp.columns"
   ]
  },
  {
   "cell_type": "markdown",
   "id": "eleven-professional",
   "metadata": {},
   "source": [
    "##### Now we merge IBES with CRSP using CUSIP (in IBES) and NCUSIP (in CRSP)"
   ]
  },
  {
   "cell_type": "code",
   "execution_count": 9,
   "id": "rapid-puzzle",
   "metadata": {},
   "outputs": [],
   "source": [
    "ibes_crsp_pickle= open(\"ibes_crsp.pickle\",\"wb\")\n",
    "ibes_crsp= ibes.merge(crsp, left_on='CUSIP', right_on='NCUSIP')\n",
    "pickle.dump(ibes_crsp, ibes_crsp_pickle)\n",
    "ibes_crsp_pickle.close()"
   ]
  },
  {
   "cell_type": "markdown",
   "id": "olive-cardiff",
   "metadata": {},
   "source": [
    "##### Merge Compustat with CRSP\n",
    "Question --> should I merge both on CUSIP or LPERMNO and PERMNO???"
   ]
  },
  {
   "cell_type": "code",
   "execution_count": 10,
   "id": "institutional-analysis",
   "metadata": {},
   "outputs": [],
   "source": [
    "#pickle_in=open (\"ibes.pickle\",\"rb\")\n",
    "#ibes_pickl=pickle.load(pickle_in)\n",
    "#type(ibes_pickl)"
   ]
  },
  {
   "cell_type": "code",
   "execution_count": 11,
   "id": "authentic-circulation",
   "metadata": {},
   "outputs": [
    {
     "data": {
      "text/plain": [
       "dask.dataframe.core.DataFrame"
      ]
     },
     "execution_count": 11,
     "metadata": {},
     "output_type": "execute_result"
    }
   ],
   "source": [
    "pickle_in=open(\"ibes_crsp.pickle\",\"rb\")\n",
    "ibesxcrsp = pickle.load(pickle_in)\n",
    "type(ibesxcrsp)"
   ]
  },
  {
   "cell_type": "code",
   "execution_count": 17,
   "id": "federal-slide",
   "metadata": {},
   "outputs": [
    {
     "data": {
      "text/plain": [
       "Index(['Unnamed: 0_x', 'TICKER_x', 'CUSIP_x', 'ESTIMATOR', 'ANALYS', 'FPI',\n",
       "       'VALUE', 'FPEDATS', 'REVDATS', 'REVTIMS', 'ANNDATS', 'ANNTIMS',\n",
       "       'ACTUAL', 'ANNDATS_ACT', 'ANNTIMS_ACT', 'Unnamed: 0_y', 'PERMNO',\n",
       "       'date', 'SHRCD', 'EXCHCD', 'NCUSIP', 'TICKER_y', 'CUSIP_y', 'DIVAMT',\n",
       "       'FACPR', 'NWPERM', 'BIDLO', 'ASKHI', 'PRC', 'VOL', 'RET', 'BID', 'ASK',\n",
       "       'SHROUT', 'SPREAD', 'RETX'],\n",
       "      dtype='object')"
      ]
     },
     "execution_count": 17,
     "metadata": {},
     "output_type": "execute_result"
    }
   ],
   "source": [
    "ibesxcrsp.columns"
   ]
  },
  {
   "cell_type": "code",
   "execution_count": 19,
   "id": "prescription-funeral",
   "metadata": {},
   "outputs": [
    {
     "ename": "NotImplementedError",
     "evalue": "Series getitem in only supported for other series objects with matching partition structure",
     "output_type": "error",
     "traceback": [
      "\u001b[1;31m---------------------------------------------------------------------------\u001b[0m",
      "\u001b[1;31mNotImplementedError\u001b[0m                       Traceback (most recent call last)",
      "\u001b[1;32m<ipython-input-19-5068653b73d7>\u001b[0m in \u001b[0;36m<module>\u001b[1;34m\u001b[0m\n\u001b[1;32m----> 1\u001b[1;33m \u001b[0mibesxcrsp\u001b[0m\u001b[1;33m[\u001b[0m\u001b[1;34m'CUSIP_x'\u001b[0m\u001b[1;33m]\u001b[0m\u001b[1;33m[\u001b[0m\u001b[1;36m0\u001b[0m\u001b[1;33m]\u001b[0m\u001b[1;33m\u001b[0m\u001b[1;33m\u001b[0m\u001b[0m\n\u001b[0m",
      "\u001b[1;32m~\\Anaconda3\\lib\\site-packages\\dask\\dataframe\\core.py\u001b[0m in \u001b[0;36m__getitem__\u001b[1;34m(self, key)\u001b[0m\n\u001b[0;32m   3040\u001b[0m             \u001b[1;32mreturn\u001b[0m \u001b[0mSeries\u001b[0m\u001b[1;33m(\u001b[0m\u001b[0mgraph\u001b[0m\u001b[1;33m,\u001b[0m \u001b[0mname\u001b[0m\u001b[1;33m,\u001b[0m \u001b[0mself\u001b[0m\u001b[1;33m.\u001b[0m\u001b[0m_meta\u001b[0m\u001b[1;33m,\u001b[0m \u001b[0mself\u001b[0m\u001b[1;33m.\u001b[0m\u001b[0mdivisions\u001b[0m\u001b[1;33m)\u001b[0m\u001b[1;33m\u001b[0m\u001b[1;33m\u001b[0m\u001b[0m\n\u001b[0;32m   3041\u001b[0m         raise NotImplementedError(\n\u001b[1;32m-> 3042\u001b[1;33m             \u001b[1;34m\"Series getitem in only supported for other series objects \"\u001b[0m\u001b[1;33m\u001b[0m\u001b[1;33m\u001b[0m\u001b[0m\n\u001b[0m\u001b[0;32m   3043\u001b[0m             \u001b[1;34m\"with matching partition structure\"\u001b[0m\u001b[1;33m\u001b[0m\u001b[1;33m\u001b[0m\u001b[0m\n\u001b[0;32m   3044\u001b[0m         )\n",
      "\u001b[1;31mNotImplementedError\u001b[0m: Series getitem in only supported for other series objects with matching partition structure"
     ]
    }
   ],
   "source": [
    "ibesxcrsp['CUSIP_x'][0]"
   ]
  },
  {
   "cell_type": "code",
   "execution_count": 20,
   "id": "controlled-halifax",
   "metadata": {},
   "outputs": [
    {
     "ename": "NotImplementedError",
     "evalue": "Series getitem in only supported for other series objects with matching partition structure",
     "output_type": "error",
     "traceback": [
      "\u001b[1;31m---------------------------------------------------------------------------\u001b[0m",
      "\u001b[1;31mNotImplementedError\u001b[0m                       Traceback (most recent call last)",
      "\u001b[1;32m<ipython-input-20-58358a2382f5>\u001b[0m in \u001b[0;36m<module>\u001b[1;34m\u001b[0m\n\u001b[1;32m----> 1\u001b[1;33m \u001b[0mibes\u001b[0m\u001b[1;33m[\u001b[0m\u001b[1;34m\"CUSIP\"\u001b[0m\u001b[1;33m]\u001b[0m\u001b[1;33m[\u001b[0m\u001b[1;36m0\u001b[0m\u001b[1;33m]\u001b[0m\u001b[1;33m\u001b[0m\u001b[1;33m\u001b[0m\u001b[0m\n\u001b[0m",
      "\u001b[1;32m~\\Anaconda3\\lib\\site-packages\\dask\\dataframe\\core.py\u001b[0m in \u001b[0;36m__getitem__\u001b[1;34m(self, key)\u001b[0m\n\u001b[0;32m   3040\u001b[0m             \u001b[1;32mreturn\u001b[0m \u001b[0mSeries\u001b[0m\u001b[1;33m(\u001b[0m\u001b[0mgraph\u001b[0m\u001b[1;33m,\u001b[0m \u001b[0mname\u001b[0m\u001b[1;33m,\u001b[0m \u001b[0mself\u001b[0m\u001b[1;33m.\u001b[0m\u001b[0m_meta\u001b[0m\u001b[1;33m,\u001b[0m \u001b[0mself\u001b[0m\u001b[1;33m.\u001b[0m\u001b[0mdivisions\u001b[0m\u001b[1;33m)\u001b[0m\u001b[1;33m\u001b[0m\u001b[1;33m\u001b[0m\u001b[0m\n\u001b[0;32m   3041\u001b[0m         raise NotImplementedError(\n\u001b[1;32m-> 3042\u001b[1;33m             \u001b[1;34m\"Series getitem in only supported for other series objects \"\u001b[0m\u001b[1;33m\u001b[0m\u001b[1;33m\u001b[0m\u001b[0m\n\u001b[0m\u001b[0;32m   3043\u001b[0m             \u001b[1;34m\"with matching partition structure\"\u001b[0m\u001b[1;33m\u001b[0m\u001b[1;33m\u001b[0m\u001b[0m\n\u001b[0;32m   3044\u001b[0m         )\n",
      "\u001b[1;31mNotImplementedError\u001b[0m: Series getitem in only supported for other series objects with matching partition structure"
     ]
    }
   ],
   "source": [
    "ibes[\"CUSIP\"][0]"
   ]
  },
  {
   "cell_type": "code",
   "execution_count": null,
   "id": "interim-wayne",
   "metadata": {},
   "outputs": [],
   "source": []
  }
 ],
 "metadata": {
  "kernelspec": {
   "display_name": "Python 3",
   "language": "python",
   "name": "python3"
  },
  "language_info": {
   "codemirror_mode": {
    "name": "ipython",
    "version": 3
   },
   "file_extension": ".py",
   "mimetype": "text/x-python",
   "name": "python",
   "nbconvert_exporter": "python",
   "pygments_lexer": "ipython3",
   "version": "3.7.1"
  }
 },
 "nbformat": 4,
 "nbformat_minor": 5
}
